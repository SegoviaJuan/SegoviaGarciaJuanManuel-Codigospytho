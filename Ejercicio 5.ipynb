{
 "cells": [
  {
   "cell_type": "code",
   "execution_count": 65,
   "id": "d5271522",
   "metadata": {},
   "outputs": [],
   "source": [
    "import math"
   ]
  },
  {
   "cell_type": "code",
   "execution_count": 66,
   "id": "7c29bfaa",
   "metadata": {},
   "outputs": [
    {
     "name": "stdout",
     "output_type": "stream",
     "text": [
      "Ingresa tu valor a: 1\n",
      "Ingresa tu valor b: 2\n",
      "Ingresa tu valor c: -8\n"
     ]
    }
   ],
   "source": [
    "a= int(input(\"Ingresa tu valor a: \"))\n",
    "b= int(input(\"Ingresa tu valor b: \"))\n",
    "c= int(input(\"Ingresa tu valor c: \"))"
   ]
  },
  {
   "cell_type": "code",
   "execution_count": 67,
   "id": "1d437908",
   "metadata": {},
   "outputs": [],
   "source": [
    "e= \"tu es cuacion es {}x^2 + {}x - {} = 0 \".format(a,b,c)"
   ]
  },
  {
   "cell_type": "code",
   "execution_count": 68,
   "id": "6c99a747",
   "metadata": {},
   "outputs": [
    {
     "data": {
      "text/plain": [
       "'tu es cuacion es 1x^2 + 2x - -8 = 0 '"
      ]
     },
     "execution_count": 68,
     "metadata": {},
     "output_type": "execute_result"
    }
   ],
   "source": [
    "e"
   ]
  },
  {
   "cell_type": "code",
   "execution_count": 69,
   "id": "17c6be86",
   "metadata": {},
   "outputs": [],
   "source": [
    "f1= (b*b)-(4*(a*c))\n",
    "f2= 2*a\n"
   ]
  },
  {
   "cell_type": "code",
   "execution_count": 70,
   "id": "8a0e0bf3",
   "metadata": {},
   "outputs": [],
   "source": [
    "e2= \"tu es cuacion es ( -{} + √{}) / {} \".format(b,f1,f2)\n",
    "e3= \"tu es cuacion es ( -{} - √{}) / {} \".format(b,f1,f2)"
   ]
  },
  {
   "cell_type": "code",
   "execution_count": 71,
   "id": "b36d68db",
   "metadata": {},
   "outputs": [
    {
     "data": {
      "text/plain": [
       "'tu es cuacion es ( -2 + √36) / 2 '"
      ]
     },
     "execution_count": 71,
     "metadata": {},
     "output_type": "execute_result"
    }
   ],
   "source": [
    "e2\n"
   ]
  },
  {
   "cell_type": "code",
   "execution_count": 72,
   "id": "97b7b476",
   "metadata": {},
   "outputs": [
    {
     "data": {
      "text/plain": [
       "'tu es cuacion es ( -2 - √36) / 2 '"
      ]
     },
     "execution_count": 72,
     "metadata": {},
     "output_type": "execute_result"
    }
   ],
   "source": [
    "e3"
   ]
  },
  {
   "cell_type": "code",
   "execution_count": 73,
   "id": "a53ebc75",
   "metadata": {},
   "outputs": [],
   "source": [
    "if f1 <= -1:\n",
    "    print (\"no hay solucion\")\n",
    "    "
   ]
  },
  {
   "cell_type": "code",
   "execution_count": 74,
   "id": "004a9fc4",
   "metadata": {},
   "outputs": [],
   "source": [
    "raiz=(math.sqrt(f1))\n",
    "rf1= (b*-1)+raiz \n",
    "rf2= (b*-1)-raiz\n",
    "ff1= rf1/f2\n",
    "ff2= rf2/f2"
   ]
  },
  {
   "cell_type": "code",
   "execution_count": 75,
   "id": "e33865fa",
   "metadata": {},
   "outputs": [],
   "source": [
    "eee=\"Resultado de la escuacion es x1= {} x2= {} \".format(ff1,ff2)"
   ]
  },
  {
   "cell_type": "code",
   "execution_count": 76,
   "id": "6a2a1a60",
   "metadata": {},
   "outputs": [
    {
     "data": {
      "text/plain": [
       "'Resultado de la escuacion es x1= 2.0 x2= -4.0 '"
      ]
     },
     "execution_count": 76,
     "metadata": {},
     "output_type": "execute_result"
    }
   ],
   "source": [
    "eee"
   ]
  },
  {
   "cell_type": "code",
   "execution_count": null,
   "id": "4c034884",
   "metadata": {},
   "outputs": [],
   "source": []
  }
 ],
 "metadata": {
  "kernelspec": {
   "display_name": "Python 3",
   "language": "python",
   "name": "python3"
  },
  "language_info": {
   "codemirror_mode": {
    "name": "ipython",
    "version": 3
   },
   "file_extension": ".py",
   "mimetype": "text/x-python",
   "name": "python",
   "nbconvert_exporter": "python",
   "pygments_lexer": "ipython3",
   "version": "3.8.8"
  }
 },
 "nbformat": 4,
 "nbformat_minor": 5
}
