{
 "cells": [
  {
   "cell_type": "code",
   "execution_count": 26,
   "id": "3f5dc915",
   "metadata": {},
   "outputs": [
    {
     "name": "stdout",
     "output_type": "stream",
     "text": [
      "Dame un nuemro = 5\n"
     ]
    }
   ],
   "source": [
    "n= int(input(\"Dame un nuemro = \"))"
   ]
  },
  {
   "cell_type": "code",
   "execution_count": 30,
   "id": "1752bd98",
   "metadata": {},
   "outputs": [
    {
     "name": "stdout",
     "output_type": "stream",
     "text": [
      "Tu numero es positivo\n"
     ]
    }
   ],
   "source": [
    "if n > 1:\n",
    "    print (\"Tu numero es positivo\")\n",
    "    \n",
    "   "
   ]
  },
  {
   "cell_type": "code",
   "execution_count": 28,
   "id": "03027e11",
   "metadata": {},
   "outputs": [],
   "source": [
    " if n <= -1 : \n",
    "        print  (\"tu numero es negativo\")"
   ]
  },
  {
   "cell_type": "code",
   "execution_count": 29,
   "id": "0aa774e0",
   "metadata": {},
   "outputs": [],
   "source": [
    "if n == 0 :\n",
    "    print(\"es cero \")"
   ]
  },
  {
   "cell_type": "code",
   "execution_count": null,
   "id": "d2df7553",
   "metadata": {},
   "outputs": [],
   "source": []
  }
 ],
 "metadata": {
  "kernelspec": {
   "display_name": "Python 3",
   "language": "python",
   "name": "python3"
  },
  "language_info": {
   "codemirror_mode": {
    "name": "ipython",
    "version": 3
   },
   "file_extension": ".py",
   "mimetype": "text/x-python",
   "name": "python",
   "nbconvert_exporter": "python",
   "pygments_lexer": "ipython3",
   "version": "3.8.8"
  }
 },
 "nbformat": 4,
 "nbformat_minor": 5
}
