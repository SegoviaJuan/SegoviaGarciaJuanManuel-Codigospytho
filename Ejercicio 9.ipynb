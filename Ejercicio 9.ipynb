{
 "cells": [
  {
   "cell_type": "code",
   "execution_count": 1,
   "id": "720e138d",
   "metadata": {},
   "outputs": [
    {
     "name": "stdout",
     "output_type": "stream",
     "text": [
      "Dame una plabra : Chego\n"
     ]
    }
   ],
   "source": [
    "p= input (\"Dame una plabra : \")"
   ]
  },
  {
   "cell_type": "code",
   "execution_count": 4,
   "id": "f25bcf98",
   "metadata": {},
   "outputs": [],
   "source": [
    "c=p[::-1]"
   ]
  },
  {
   "cell_type": "code",
   "execution_count": 5,
   "id": "1619675a",
   "metadata": {},
   "outputs": [
    {
     "data": {
      "text/plain": [
       "'ogehC'"
      ]
     },
     "execution_count": 5,
     "metadata": {},
     "output_type": "execute_result"
    }
   ],
   "source": [
    "c"
   ]
  },
  {
   "cell_type": "code",
   "execution_count": null,
   "id": "a223d893",
   "metadata": {},
   "outputs": [],
   "source": []
  }
 ],
 "metadata": {
  "kernelspec": {
   "display_name": "Python 3",
   "language": "python",
   "name": "python3"
  },
  "language_info": {
   "codemirror_mode": {
    "name": "ipython",
    "version": 3
   },
   "file_extension": ".py",
   "mimetype": "text/x-python",
   "name": "python",
   "nbconvert_exporter": "python",
   "pygments_lexer": "ipython3",
   "version": "3.8.8"
  }
 },
 "nbformat": 4,
 "nbformat_minor": 5
}
