{
 "cells": [
  {
   "cell_type": "code",
   "execution_count": 5,
   "id": "ef1bbec7",
   "metadata": {},
   "outputs": [
    {
     "name": "stdout",
     "output_type": "stream",
     "text": [
      "Ingresa tu nombre: juan\n",
      "Ingrese su telefono: 5583804416\n",
      "Ingrese su Email: segoviamex@gmail.com\n"
     ]
    }
   ],
   "source": [
    "n= input(\"Ingresa tu nombre: \")\n",
    "t= input(\"Ingrese su telefono: \")\n",
    "m= input(\"Ingrese su Email: \")"
   ]
  },
  {
   "cell_type": "code",
   "execution_count": 6,
   "id": "ef4c3304",
   "metadata": {},
   "outputs": [],
   "source": [
    "B = \"Bienvenido '{}' tu Numero es '{}' y tu email es '{}'\".format(n,t,m)"
   ]
  },
  {
   "cell_type": "code",
   "execution_count": 7,
   "id": "10857253",
   "metadata": {},
   "outputs": [
    {
     "data": {
      "text/plain": [
       "\"Bienvenido 'juan' tu Numero es '5583804416' y tu email es 'segoviamex@gmail.com'\""
      ]
     },
     "execution_count": 7,
     "metadata": {},
     "output_type": "execute_result"
    }
   ],
   "source": [
    "B"
   ]
  },
  {
   "cell_type": "code",
   "execution_count": null,
   "id": "bdc823c4",
   "metadata": {},
   "outputs": [],
   "source": []
  }
 ],
 "metadata": {
  "kernelspec": {
   "display_name": "Python 3",
   "language": "python",
   "name": "python3"
  },
  "language_info": {
   "codemirror_mode": {
    "name": "ipython",
    "version": 3
   },
   "file_extension": ".py",
   "mimetype": "text/x-python",
   "name": "python",
   "nbconvert_exporter": "python",
   "pygments_lexer": "ipython3",
   "version": "3.8.8"
  }
 },
 "nbformat": 4,
 "nbformat_minor": 5
}
