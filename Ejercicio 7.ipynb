{
 "cells": [
  {
   "cell_type": "code",
   "execution_count": 25,
   "id": "93448917",
   "metadata": {},
   "outputs": [
    {
     "name": "stdout",
     "output_type": "stream",
     "text": [
      "Nombre: Juan\n",
      "Edad: 22\n",
      "Ingresos al mes: 200\n",
      "Egresos al mes: 500\n",
      "Prestamo: 5000\n",
      "Meses para pagar: 12\n"
     ]
    }
   ],
   "source": [
    "n= input (\"Nombre: \")\n",
    "e= int( input (\"Edad: \"))\n",
    "i= int (input (\"Ingresos al mes: \"))\n",
    "eg= int (input (\"Egresos al mes: \"))\n",
    "p=int (input (\"Prestamo: \"))\n",
    "m=int (input (\"Meses para pagar: \"))\n"
   ]
  },
  {
   "cell_type": "code",
   "execution_count": 26,
   "id": "e466ae87",
   "metadata": {},
   "outputs": [],
   "source": [
    "pr= p/m\n",
    "s=0"
   ]
  },
  {
   "cell_type": "code",
   "execution_count": 27,
   "id": "70a32371",
   "metadata": {},
   "outputs": [],
   "source": [
    "f1= \"Hola {} Es candidato al prestamo requerido de {} a {} meses pagando {}$ al mes \".format(n,p,m,pr)"
   ]
  },
  {
   "cell_type": "code",
   "execution_count": 28,
   "id": "2021f9e8",
   "metadata": {},
   "outputs": [],
   "source": [
    "f2= \"Hola {} no es candidato al prestamo requerido de vido a que su egreso es mayor a sus ingresos siendo {}$ > {}$ \".format(n,i,eg)"
   ]
  },
  {
   "cell_type": "code",
   "execution_count": 29,
   "id": "e3f602f1",
   "metadata": {},
   "outputs": [],
   "source": [
    "f3= \"Hola {} usted no comple con la mayoria de edad su edad es de {} asi que regrese al kinder morro >:V \".format(n,e)"
   ]
  },
  {
   "cell_type": "code",
   "execution_count": 30,
   "id": "f8b0f402",
   "metadata": {},
   "outputs": [],
   "source": [
    "if e <= 17:\n",
    "    s=1"
   ]
  },
  {
   "cell_type": "code",
   "execution_count": 35,
   "id": "eb805522",
   "metadata": {},
   "outputs": [],
   "source": [
    "if eg > i:\n",
    "    s=2"
   ]
  },
  {
   "cell_type": "code",
   "execution_count": 36,
   "id": "58dd34c7",
   "metadata": {},
   "outputs": [],
   "source": [
    "if s == 1:\n",
    "    print(f3)"
   ]
  },
  {
   "cell_type": "code",
   "execution_count": 37,
   "id": "61d5c569",
   "metadata": {},
   "outputs": [
    {
     "name": "stdout",
     "output_type": "stream",
     "text": [
      "Hola Juan no es candidato al prestamo requerido de vido a que su egreso es mayor a sus ingresos siendo 200$ > 500$ \n"
     ]
    }
   ],
   "source": [
    "if s == 2:\n",
    "    print(f2)\n"
   ]
  },
  {
   "cell_type": "code",
   "execution_count": 38,
   "id": "329dafe4",
   "metadata": {},
   "outputs": [],
   "source": [
    "if s == 0:\n",
    "    print(f1)"
   ]
  },
  {
   "cell_type": "code",
   "execution_count": 20,
   "id": "e4920b3b",
   "metadata": {},
   "outputs": [
    {
     "data": {
      "text/plain": [
       "1"
      ]
     },
     "execution_count": 20,
     "metadata": {},
     "output_type": "execute_result"
    }
   ],
   "source": []
  },
  {
   "cell_type": "code",
   "execution_count": null,
   "id": "8af92526",
   "metadata": {},
   "outputs": [],
   "source": []
  }
 ],
 "metadata": {
  "kernelspec": {
   "display_name": "Python 3",
   "language": "python",
   "name": "python3"
  },
  "language_info": {
   "codemirror_mode": {
    "name": "ipython",
    "version": 3
   },
   "file_extension": ".py",
   "mimetype": "text/x-python",
   "name": "python",
   "nbconvert_exporter": "python",
   "pygments_lexer": "ipython3",
   "version": "3.8.8"
  }
 },
 "nbformat": 4,
 "nbformat_minor": 5
}
