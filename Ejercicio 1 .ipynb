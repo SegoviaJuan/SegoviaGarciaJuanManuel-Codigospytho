{
 "cells": [
  {
   "cell_type": "code",
   "execution_count": 2,
   "id": "839fa6b4",
   "metadata": {},
   "outputs": [],
   "source": [
    "import turtle \n"
   ]
  },
  {
   "cell_type": "code",
   "execution_count": 3,
   "id": "7b105860",
   "metadata": {
    "scrolled": true
   },
   "outputs": [],
   "source": [
    "colors=['red', 'purple', 'blue', 'green', 'orange', 'white']\n",
    "\n",
    "t=turtle.Pen()\n",
    "\n"
   ]
  },
  {
   "cell_type": "code",
   "execution_count": 4,
   "id": "6db4cfb2",
   "metadata": {
    "scrolled": true
   },
   "outputs": [],
   "source": [
    "\n",
    "\n",
    "t.goto(-100, -100)\n",
    "\n",
    "\n",
    "\n",
    "\n",
    "for i in range(4):\n",
    "    t.forward(170)\n",
    "    t.left(90)\n",
    "\n",
    "\n",
    "\n",
    "t.goto(20, 130)\n",
    "\n",
    "\n",
    "\n",
    "for i in range(2):\n",
    "    t.forward(40)\n",
    "    t.left(90)\n",
    "    t.forward(100)\n",
    "    t.left(90)\n",
    "\n",
    "\n",
    "\n",
    "t.goto(-127, 70)\n",
    "\n",
    "t.begin_fill()\n",
    "for i in range(3):\n",
    "    t.forward(225)\n",
    "    t.left(120)\n",
    "\n",
    "turtle.done()"
   ]
  },
  {
   "cell_type": "code",
   "execution_count": null,
   "id": "8972aa8d",
   "metadata": {},
   "outputs": [],
   "source": []
  },
  {
   "cell_type": "code",
   "execution_count": null,
   "id": "61233ff7",
   "metadata": {},
   "outputs": [],
   "source": []
  },
  {
   "cell_type": "code",
   "execution_count": null,
   "id": "999e42ef",
   "metadata": {},
   "outputs": [],
   "source": []
  }
 ],
 "metadata": {
  "kernelspec": {
   "display_name": "Python 3",
   "language": "python",
   "name": "python3"
  },
  "language_info": {
   "codemirror_mode": {
    "name": "ipython",
    "version": 3
   },
   "file_extension": ".py",
   "mimetype": "text/x-python",
   "name": "python",
   "nbconvert_exporter": "python",
   "pygments_lexer": "ipython3",
   "version": "3.8.8"
  }
 },
 "nbformat": 4,
 "nbformat_minor": 5
}
