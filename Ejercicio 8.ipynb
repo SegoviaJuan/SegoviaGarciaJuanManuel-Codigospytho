{
 "cells": [
  {
   "cell_type": "code",
   "execution_count": 44,
   "id": "9d0259aa",
   "metadata": {},
   "outputs": [
    {
     "name": "stdout",
     "output_type": "stream",
     "text": [
      "*\n",
      "* *\n",
      "* * *\n",
      "* * * *\n",
      "* * * * *\n",
      "* * * * * *\n",
      "* * * * *\n",
      "* * * * \n",
      "* * *  \n",
      "* * \n",
      "*\n"
     ]
    }
   ],
   "source": [
    "li = [1,2,3,4,5,6,7,8,9,10,11 ]\n",
    "i = 0\n",
    "d= \" *\"\n",
    "xd=\"*\"\n",
    "r= \"*\"\n",
    "r2=\"* * * * *\"\n",
    "r3= \"* * * * \"\n",
    "r4= \"* * *  \"\n",
    "r5= \"* * \"\n",
    "while i < len(li):\n",
    "    \n",
    "    print (r)\n",
    "    r=r+d \n",
    "    i+=1\n",
    "    if i == 6:\n",
    "        r=r2\n",
    "    if i == 7:\n",
    "        r=r3\n",
    "    if i == 8:\n",
    "        r=r4\n",
    "    if i == 9:\n",
    "        r=r5\n",
    "    if i == 10:\n",
    "        r=xd\n",
    "\n",
    "      \n",
    " \n",
    "            "
   ]
  },
  {
   "cell_type": "code",
   "execution_count": 20,
   "id": "f7443882",
   "metadata": {},
   "outputs": [],
   "source": []
  },
  {
   "cell_type": "code",
   "execution_count": 4,
   "id": "287c805f",
   "metadata": {},
   "outputs": [
    {
     "ename": "TypeError",
     "evalue": "unsupported operand type(s) for -: 'str' and 'str'",
     "output_type": "error",
     "traceback": [
      "\u001b[1;31m---------------------------------------------------------------------------\u001b[0m",
      "\u001b[1;31mTypeError\u001b[0m                                 Traceback (most recent call last)",
      "\u001b[1;32m<ipython-input-4-a73d9da049f6>\u001b[0m in \u001b[0;36m<module>\u001b[1;34m\u001b[0m\n\u001b[1;32m----> 1\u001b[1;33m \u001b[0md\u001b[0m\u001b[1;33m-\u001b[0m\u001b[0md\u001b[0m\u001b[1;33m\u001b[0m\u001b[1;33m\u001b[0m\u001b[0m\n\u001b[0m",
      "\u001b[1;31mTypeError\u001b[0m: unsupported operand type(s) for -: 'str' and 'str'"
     ]
    }
   ],
   "source": []
  },
  {
   "cell_type": "code",
   "execution_count": null,
   "id": "3ebe897f",
   "metadata": {},
   "outputs": [],
   "source": []
  },
  {
   "cell_type": "code",
   "execution_count": null,
   "id": "a3438314",
   "metadata": {},
   "outputs": [],
   "source": []
  },
  {
   "cell_type": "code",
   "execution_count": null,
   "id": "77da14b2",
   "metadata": {},
   "outputs": [],
   "source": []
  }
 ],
 "metadata": {
  "kernelspec": {
   "display_name": "Python 3",
   "language": "python",
   "name": "python3"
  },
  "language_info": {
   "codemirror_mode": {
    "name": "ipython",
    "version": 3
   },
   "file_extension": ".py",
   "mimetype": "text/x-python",
   "name": "python",
   "nbconvert_exporter": "python",
   "pygments_lexer": "ipython3",
   "version": "3.8.8"
  }
 },
 "nbformat": 4,
 "nbformat_minor": 5
}
