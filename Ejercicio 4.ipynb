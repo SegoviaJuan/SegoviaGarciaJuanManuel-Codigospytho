{
 "cells": [
  {
   "cell_type": "code",
   "execution_count": 8,
   "id": "ca1d3dbc",
   "metadata": {},
   "outputs": [
    {
     "name": "stdout",
     "output_type": "stream",
     "text": [
      "Primera matris numero 1= 1\n",
      "Primera matris numero 2= 2\n",
      "Segunda matris numero 1= 3\n",
      "Segunda matris numero 2= 4\n"
     ]
    }
   ],
   "source": [
    "n1= int(input(\"Primera matris numero 1= \"))\n",
    "n2= int(input(\"Primera matris numero 2= \"))\n",
    "n3= int(input(\"Segunda matris numero 1= \"))\n",
    "n4= int(input(\"Segunda matris numero 2= \"))\n"
   ]
  },
  {
   "cell_type": "code",
   "execution_count": 12,
   "id": "b6a0d071",
   "metadata": {
    "scrolled": true
   },
   "outputs": [
    {
     "ename": "SyntaxError",
     "evalue": "invalid syntax (<ipython-input-12-8346ce7a99c6>, line 1)",
     "output_type": "error",
     "traceback": [
      "\u001b[1;36m  File \u001b[1;32m\"<ipython-input-12-8346ce7a99c6>\"\u001b[1;36m, line \u001b[1;32m1\u001b[0m\n\u001b[1;33m    print(\"|\"+ n1 + n3\"|\")\u001b[0m\n\u001b[1;37m                      ^\u001b[0m\n\u001b[1;31mSyntaxError\u001b[0m\u001b[1;31m:\u001b[0m invalid syntax\n"
     ]
    }
   ],
   "source": []
  },
  {
   "cell_type": "code",
   "execution_count": 13,
   "id": "1c8b2999",
   "metadata": {},
   "outputs": [],
   "source": [
    "r1=n2*n3\n",
    "r2=n1*n4\n",
    "r=r1-r2"
   ]
  },
  {
   "cell_type": "code",
   "execution_count": 14,
   "id": "a51dcedd",
   "metadata": {},
   "outputs": [],
   "source": [
    "F= \"Su resultado es {}\".format(r)"
   ]
  },
  {
   "cell_type": "code",
   "execution_count": 15,
   "id": "af8b334a",
   "metadata": {},
   "outputs": [
    {
     "data": {
      "text/plain": [
       "'Su resultado es 2'"
      ]
     },
     "execution_count": 15,
     "metadata": {},
     "output_type": "execute_result"
    }
   ],
   "source": [
    "F"
   ]
  },
  {
   "cell_type": "code",
   "execution_count": null,
   "id": "e3d6279c",
   "metadata": {},
   "outputs": [],
   "source": []
  }
 ],
 "metadata": {
  "kernelspec": {
   "display_name": "Python 3",
   "language": "python",
   "name": "python3"
  },
  "language_info": {
   "codemirror_mode": {
    "name": "ipython",
    "version": 3
   },
   "file_extension": ".py",
   "mimetype": "text/x-python",
   "name": "python",
   "nbconvert_exporter": "python",
   "pygments_lexer": "ipython3",
   "version": "3.8.8"
  }
 },
 "nbformat": 4,
 "nbformat_minor": 5
}
