{
 "cells": [
  {
   "cell_type": "code",
   "execution_count": 26,
   "id": "a69f52e7",
   "metadata": {},
   "outputs": [
    {
     "name": "stdout",
     "output_type": "stream",
     "text": [
      "Ingrese la resistencia 1: 120\n",
      "Ingrese la resistencia 2: 5\n"
     ]
    }
   ],
   "source": [
    "R1= int(input (\"Ingrese la resistencia 1: \"))\n",
    "R2= int(input (\"Ingrese la resistencia 2: \"))\n"
   ]
  },
  {
   "cell_type": "code",
   "execution_count": 27,
   "id": "a05339b1",
   "metadata": {},
   "outputs": [],
   "source": [
    "\n",
    "rs1= (R1 * R2)\n",
    "rs2= (R1 + R2)\n",
    "rs3= (rs1 / rs2)\n"
   ]
  },
  {
   "cell_type": "code",
   "execution_count": 28,
   "id": "5fd05250",
   "metadata": {},
   "outputs": [],
   "source": [
    "R= \"Su resultado es '{}Ω' \".format(rs3)"
   ]
  },
  {
   "cell_type": "code",
   "execution_count": 29,
   "id": "2ae7b3f2",
   "metadata": {},
   "outputs": [
    {
     "data": {
      "text/plain": [
       "\"Su resultado es '4.8Ω' \""
      ]
     },
     "execution_count": 29,
     "metadata": {},
     "output_type": "execute_result"
    }
   ],
   "source": [
    "R"
   ]
  },
  {
   "cell_type": "code",
   "execution_count": null,
   "id": "a13a31cd",
   "metadata": {},
   "outputs": [],
   "source": []
  }
 ],
 "metadata": {
  "kernelspec": {
   "display_name": "Python 3",
   "language": "python",
   "name": "python3"
  },
  "language_info": {
   "codemirror_mode": {
    "name": "ipython",
    "version": 3
   },
   "file_extension": ".py",
   "mimetype": "text/x-python",
   "name": "python",
   "nbconvert_exporter": "python",
   "pygments_lexer": "ipython3",
   "version": "3.8.8"
  }
 },
 "nbformat": 4,
 "nbformat_minor": 5
}
